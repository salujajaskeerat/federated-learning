{
 "cells": [
  {
   "cell_type": "markdown",
   "metadata": {},
   "source": [
    "Here, we will implement some distributed optimisation algorithms.\n",
    "First, we will try the DGD Algorithm for 4 nodes. They will have optimisation objectives as follows:\n",
    "\n",
    "$f(x) = \\sum_{i = 1} ^ {4} f_i(x)\n",
    "x \\in \\mathbb{R} ^ 4$\n",
    "where\n",
    "\n",
    "$f_i(x) = (\\sum_{j \\neq i}{\\frac{(x ^ j) ^ 2}{6}}) + \\frac{(x ^ i) ^ 2}{2}$\n",
    "\n",
    "where $x ^ i$ is the i-th component of $x$.\n",
    "We note that all the functions are convex and acheive minima identically at $(0, 0, 0, 0)$. So, in theory all $x_i$ must converge to $(0, 0, 0, 0)$\n",
    "\n",
    "We assume the graph to be fully connected(static). The weight matrix(is doubly stochastic) will be given as : \n",
    "\n",
    "$W = \\begin{bmatrix}\n",
    "1/4 & 1/4 & 1/4 & 1/4\\\\\n",
    "    1/4 & 1/4 & 1/4 & 1/4\\\\\n",
    "    1/4 & 1/4 & 1/4 & 1/4\\\\\n",
    "    1/4 & 1/4 & 1/4 & 1/4\\\\\n",
    "    \\end{bmatrix}$\n",
    "\n",
    "The simplified DGD Algorithm works as follows:\n",
    "\n",
    "$x_i(k + 1) = \\left(sum_{j=1} ^ {4}w_{ij} \\cdot x_j(k) \\right)  − \\alpha(k) \\cdot d_i(k)$\n",
    "\n",
    "where $x_i(k)$ is i-th node's estimate of the solution at the k-th iteration, the first term on RHS is the consensus term\n",
    "\n",
    "$w_{ij}$ is the weight of edge j to i\n",
    "\n",
    "$\\alpha(k)$ is the learning rate at the k-th iteration\n",
    "\n",
    "$d_i(k)$ is the subgradient for the i-th node at the k-th step at the point $x_i(k)$\n",
    "\n",
    "We choose $\\alpha(k) = 1/k$ since it is the simplest sequence satisfying the convergence requirements of the diminishing step sizes.\n",
    "\n",
    "In our case the subgradient for node $i$ comes out to be:\n",
    "\n",
    "$d_i ^ j(k) = \\frac{1}{3} \\cdot  x_i ^ j(k) \\\n",
    "\\\n",
    "\n",
    "    ∀ j \\neq i$\n",
    "\n",
    "$d_i ^ i(k) = x_i ^ i$\n",
    "\n",
    "$(W \\cdot X)_{ij} = \\sum_{k = 1} ^ {4} w_{ik} \\cdot  x_k ^ j$\n"
   ]
  },
  {
   "cell_type": "code",
   "execution_count": 52,
   "metadata": {},
   "outputs": [],
   "source": [
    "import numpy as np\n",
    "\n",
    "import pandas as pd\n",
    "import  matplotlib.pyplot as plt\n",
    "import seaborn as sbn\n",
    "sbn.set_theme(style='darkgrid')\n"
   ]
  },
  {
   "cell_type": "code",
   "execution_count": null,
   "metadata": {},
   "outputs": [],
   "source": [
    "def subgradient_i(i,xi):\n",
    "    zer = np.zeros((4))\n",
    "    zer[i] = (2/3)*xi[i]\n",
    "    # print(zer + xi/3)\n",
    "    return zer + xi/3\n",
    "\n",
    "def subgradient(X):\n",
    "    der = np.zeros((4,4))\n",
    "    for i in range(4):\n",
    "        der[i] = subgradient_i(i,X[i])\n",
    "    return der\n",
    "\n",
    "def BaseLine():\n",
    "    x = np.random.rand(4,1)*24\n",
    "    x = np.asarray(x,dtype = int)\n",
    "\n",
    "    for iter in range(100):\n",
    "        alpha = (float)(5.0/(iter+1.0))\n",
    "        x = x - alpha*(x)*(2)\n",
    "        print(f\"After {iter+1} iterations: X has value\")\n",
    "        print(x)\n",
    "\n",
    "def DGD():\n",
    "    W = np.ones((4,4))*(1/4)\n",
    "    # W = np.array([ [1/2,1/2,0,0]     --> 2 components with inner communication and no outer communication\n",
    "    #               ,[1/2,1/2,0,0]\n",
    "    #               ,[0,0,1/2,1/2]\n",
    "    #               ,[0,0,1/2,1/2]])\n",
    "\n",
    "    # W = np.array([ [0,1,0,0]      --> Nonsensical, no node trusts itself at all.\n",
    "    #               ,[0,0,1,0]\n",
    "    #               ,[0,0,0,1]\n",
    "    #               ,[1,0,0,0]])\n",
    "\n",
    "    # W = np.eye(4) --> No consensus\n",
    "\n",
    "    print(W)\n",
    "    X = np.random.rand(1,4)     # each row is the current solution for its respective node(0,1,2,3)\n",
    "    X = np.repeat(X, repeats=4, axis=0)\n",
    "    X = np.asarray(27*X,dtype = int)\n",
    "    print(\"Initial Value of X\")\n",
    "    print(X)\n",
    "\n",
    "    for iter in range(100):\n",
    "        D = subgradient(X)\n",
    "        alpha = (float)(5.0/(iter+1.0))\n",
    "        X = np.dot(W,X) - alpha*D\n",
    "        # print(f\"D ={D}\")\n",
    "        print(f\"After {iter+1} iterations: X has value\")\n",
    "        # print(X)\n",
    "        print([np.linalg.norm(X[i]) for i in range(4)])\n",
    "\n",
    "# DGD()\n",
    "BaseLine()\n"
   ]
  },
  {
   "cell_type": "code",
   "execution_count": 35,
   "metadata": {},
   "outputs": [],
   "source": [
    "def DGD(W:np.array,X:np.array,iter:np.int32,subgradient,alpha=1e-0):\n",
    "    '''\n",
    "    W: Doubly stochatic matrix\n",
    "    X:initial solution \n",
    "    iter: Iterations\n",
    "\n",
    "    '''\n",
    "\n",
    "    values =[]\n",
    "\n",
    "    for i in range(iter):\n",
    "        subGradMatrix:np.array = subgradient(X)\n",
    "        X= np.dot(W,X) - alpha*subGradMatrix\n",
    "        values.append(X)\n",
    "        if iter %5 ==0:\n",
    "            alpha = alpha/2\n",
    "        \n",
    "    \n",
    "    return np.array(values)"
   ]
  },
  {
   "cell_type": "code",
   "execution_count": 17,
   "metadata": {},
   "outputs": [
    {
     "data": {
      "text/plain": [
       "array([[-499.98673124],\n",
       "       [-499.98673124],\n",
       "       [-241.65269154],\n",
       "       [-241.65269154]])"
      ]
     },
     "execution_count": 17,
     "metadata": {},
     "output_type": "execute_result"
    }
   ],
   "source": [
    "W = [[1/2, 1/2, 0, 0], [1/2, 1/2, 0, 0], [0, 0, 1/2, 1/2], [0, 0, 1/2, 1/2]]\n",
    "X= (np.random.rand(4,1) - np.random.rand(4,1))*1000\n",
    "Y=np.array([[1,2,3,4]]).T\n",
    "np.dot(W,X)\n"
   ]
  },
  {
   "cell_type": "code",
   "execution_count": 36,
   "metadata": {},
   "outputs": [],
   "source": [
    "# Assuing f(x) = x1^2 + x2^2 +x3^2 +x4^2\n",
    "# and fi(x) = xi^2 , fi'(x)= 2xi\n",
    "def subgradient1(X):\n",
    "    return 2*X\n",
    "    # Subgradiient[i] = fi'(xi)\n"
   ]
  },
  {
   "cell_type": "code",
   "execution_count": 64,
   "metadata": {},
   "outputs": [
    {
     "data": {
      "text/plain": [
       "(10, 1)"
      ]
     },
     "execution_count": 64,
     "metadata": {},
     "output_type": "execute_result"
    }
   ],
   "source": [
    "values= DGD(W,X,10,subgradient1)\n",
    "values[:,1].shape"
   ]
  },
  {
   "cell_type": "code",
   "execution_count": 69,
   "metadata": {},
   "outputs": [
    {
     "data": {
      "text/plain": [
       "Text(0.5, 1.0, ' DGD Algorithm \\n min F(x) = $\\\\sum{(x_i)^2}$ and $f_i(x) = (x_i)^2$ ')"
      ]
     },
     "execution_count": 69,
     "metadata": {},
     "output_type": "execute_result"
    },
    {
     "data": {
      "image/png": "[encoded data removed]",
      "text/plain": [
       "<Figure size 432x288 with 1 Axes>"
      ]
     },
     "metadata": {},
     "output_type": "display_data"
    }
   ],
   "source": [
    "fig ,ax=plt.subplots()\n",
    "\n",
    "for i in range(0,4):\n",
    "    sbn.lineplot(x=np.arange(1,len(values)+1),y=np.ravel(values[:, i]),ax=ax,label=f'x{i+1}')\n",
    "\n",
    "ax.set_title(\n",
    "    ' DGD Algorithm \\n min F(x) = $\\sum{(x_i)^2}$ and $f_i(x) = (x_i)^2$ ')\n",
    "\n"
   ]
  },
  {
   "cell_type": "code",
   "execution_count": null,
   "metadata": {},
   "outputs": [],
   "source": []
  }
 ],
 "metadata": {
  "interpreter": {
   "hash": "57e28ee64cd7ede902428d71b4aeea32d9bee343989bfc38820b7d5669f51bbf"
  },
  "kernelspec": {
   "display_name": "Python 3.9.7 64-bit ('venv': venv)",
   "language": "python",
   "name": "python3"
  },
  "language_info": {
   "codemirror_mode": {
    "name": "ipython",
    "version": 3
   },
   "file_extension": ".py",
   "mimetype": "text/x-python",
   "name": "python",
   "nbconvert_exporter": "python",
   "pygments_lexer": "ipython3",
   "version": "3.9.7"
  },
  "orig_nbformat": 4
 },
 "nbformat": 4,
 "nbformat_minor": 2
}
